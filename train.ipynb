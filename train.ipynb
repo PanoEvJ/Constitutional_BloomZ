{
  "nbformat": 4,
  "nbformat_minor": 0,
  "metadata": {
    "colab": {
      "provenance": [],
      "gpuType": "A100",
      "mount_file_id": "1iQo9aJUt-MfMd1IKFXx1RF0WQulyqDn0",
      "authorship_tag": "ABX9TyPCOd39kYG7EGm0EW4eD3ya",
      "include_colab_link": true
    },
    "kernelspec": {
      "name": "python3",
      "display_name": "Python 3"
    },
    "language_info": {
      "name": "python"
    },
    "accelerator": "GPU"
  },
  "cells": [
    {
      "cell_type": "markdown",
      "metadata": {
        "id": "view-in-github",
        "colab_type": "text"
      },
      "source": [
        "<a href=\"https://colab.research.google.com/github/PanoEvJ/Constitutional_BloomZ/blob/main/train.ipynb\" target=\"_parent\"><img src=\"https://colab.research.google.com/assets/colab-badge.svg\" alt=\"Open In Colab\"/></a>"
      ]
    },
    {
      "cell_type": "code",
      "source": [
        "!pip install trl"
      ],
      "metadata": {
        "id": "bHR5U_q6cYG9"
      },
      "execution_count": null,
      "outputs": []
    },
    {
      "cell_type": "code",
      "source": [
        "!cp '/content/drive/MyDrive/gpt-j-6b-toxicity.py' train.py"
      ],
      "metadata": {
        "id": "DS5KRf8gpF8c"
      },
      "execution_count": 6,
      "outputs": []
    },
    {
      "cell_type": "code",
      "source": [
        "!python train.py --model_save_path='./'"
      ],
      "metadata": {
        "id": "7lTntHRwecyr"
      },
      "execution_count": null,
      "outputs": []
    }
  ]
}